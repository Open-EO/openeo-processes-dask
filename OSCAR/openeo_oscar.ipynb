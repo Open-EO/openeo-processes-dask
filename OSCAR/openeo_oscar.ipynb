{
 "cells": [
  {
   "cell_type": "code",
   "execution_count": 2,
   "id": "741316c5",
   "metadata": {},
   "outputs": [],
   "source": [
    "import openeo\n",
    "from openeo.local import LocalConnection\n",
    "local_conn = LocalConnection(\"./\")"
   ]
  },
  {
   "cell_type": "code",
   "execution_count": 2,
   "id": "5accc6ee",
   "metadata": {},
   "outputs": [
    {
     "data": {
      "text/html": [
       "Visit <a href=\"https://aai.egi.eu/device?user_code=SFLF-BSBJ\" title=\"Authenticate at https://aai.egi.eu/device?user_code=SFLF-BSBJ\" target=\"_blank\" rel=\"noopener noreferrer\">https://aai.egi.eu/device?user_code=SFLF-BSBJ</a> <a href=\"#\" onclick=\"navigator.clipboard.writeText('https://aai.egi.eu/device?user_code=SFLF-BSBJ');return false;\" title=\"Copy authentication URL to clipboard\">&#128203;</a> to authenticate."
      ]
     },
     "metadata": {},
     "output_type": "display_data"
    },
    {
     "data": {
      "text/html": [
       "✅ Authorized successfully"
      ]
     },
     "metadata": {},
     "output_type": "display_data"
    },
    {
     "name": "stdout",
     "output_type": "stream",
     "text": [
      "Authenticated using device code flow.\n"
     ]
    }
   ],
   "source": [
    "# to test with local connection we need to connect to a backend\n",
    "# to get a refresh token\n",
    "conn = openeo.connect(\"https://openeo.eodc.eu/openeo/1.2.0\").authenticate_oidc()"
   ]
  },
  {
   "cell_type": "markdown",
   "id": "b9f57cba",
   "metadata": {},
   "source": []
  },
  {
   "cell_type": "code",
   "execution_count": null,
   "id": "4020ea78",
   "metadata": {},
   "outputs": [],
   "source": [
    "oscar = local_conn.datacube_from_process(\n",
    "    \"run_oscar\",\n",
    "    oscar_endpoint=\"https://oscar-grnet.intertwin.fedcloud.eu\",\n",
    "    service=\"hydroform-hydromt\",\n",
    "    output=\"output\",\n",
    "    input_stac_url=\"https://stac.example.com/item/123\",\n",
    "    local_refresh_token=\"/home/jzvolensky/.local/share/openeo-python-client/refresh-tokens.json\",\n",
    "    oscar_script=None,\n",
    "    service_config=\"./configs/oscar_hydromt_svc.yaml\",\n",
    "    context={\n",
    "        \"model_resolution\": \"0.008999999999\",\n",
    "        \"dataset\": \"hydromt\",\n",
    "    }\n",
    ")\n",
    "\n",
    "oscar"
   ]
  },
  {
   "cell_type": "code",
   "execution_count": null,
   "id": "7bb05852",
   "metadata": {},
   "outputs": [],
   "source": [
    "# Dummy example\n",
    "oscar_dummy = local_conn.datacube_from_process(\n",
    "    \"run_oscar\",\n",
    "    oscar_endpoint=\"https://oscar-grnet.intertwin.fedcloud.eu\",\n",
    "    service=\"openeo-dummy\",\n",
    "    output=\"output\",\n",
    "    input_stac_url=\"https://stac.example.com/item/123\",\n",
    "    local_refresh_token=\"/home/jzvolensky/.local/share/openeo-python-client/refresh-tokens.json\",\n",
    "    oscar_script=None,\n",
    "    service_config=\"./configs/dummy.yaml\",\n",
    "    context={\n",
    "        \"DUMMY_INPUT1\": \"dummy_value_custom\",\n",
    "        \"DUMMY_INPUT2\": \"another_value_custom\",\n",
    "    }\n",
    ")\n",
    "\n",
    "result1 = oscar_dummy.execute()\n",
    "\n",
    "oscar_dummy_2 = local_conn.datacube_from_process(\n",
    "    \"run_oscar\",\n",
    "    oscar_endpoint=\"https://oscar-grnet.intertwin.fedcloud.eu\",\n",
    "    service=\"openeo-dummy\",\n",
    "    output=\"output\",\n",
    "    input_stac_url=result1,\n",
    "    local_refresh_token=\"/home/jzvolensky/.local/share/openeo-python-client/refresh-tokens.json\",\n",
    "    oscar_script=None,\n",
    "    service_config=\"./configs/dummy.yaml\",\n",
    "    context={\n",
    "        \"DUMMY_INPUT1\": \"dummy_value_custom_2\",\n",
    "        \"DUMMY_INPUT2\": \"another_value_custom_2\",\n",
    "        \"INPUT_STAC\": result1\n",
    "    }\n",
    ")\n",
    "\n",
    "result2 = oscar_dummy_2.execute()\n",
    "\n",
    "result2"
   ]
  },
  {
   "cell_type": "markdown",
   "id": "ae25524f",
   "metadata": {},
   "source": [
    "Following causes both processes to trigger at the same time which is bad bad"
   ]
  },
  {
   "cell_type": "code",
   "execution_count": 3,
   "id": "9d3263b0",
   "metadata": {},
   "outputs": [
    {
     "data": {
      "text/html": [
       "\n",
       "    <script>\n",
       "    if (!window.customElements || !window.customElements.get('openeo-model-builder')) {\n",
       "        var el = document.createElement('script');\n",
       "        el.src = \"https://cdn.jsdelivr.net/npm/@openeo/vue-components@2/assets/openeo.min.js\";\n",
       "        document.head.appendChild(el);\n",
       "\n",
       "        var font = document.createElement('font');\n",
       "        font.as = \"font\";\n",
       "        font.type = \"font/woff2\";\n",
       "        font.crossOrigin = true;\n",
       "        font.href = \"https://use.fontawesome.com/releases/v5.13.0/webfonts/fa-solid-900.woff2\"\n",
       "        document.head.appendChild(font);\n",
       "    }\n",
       "    </script>\n",
       "    <openeo-model-builder>\n",
       "        <script type=\"application/json\">{\"id\": \"8eed566a733a4412b5574028fdfeb113\", \"explicit-zoom\": true, \"height\": \"400px\", \"value\": {\"process_graph\": {\"runoscar1\": {\"process_id\": \"run_oscar\", \"arguments\": {\"context\": {\"model_resolution\": \"0.008999999999\", \"dataset\": \"hydromt\", \"custom_param\": \"foo\"}, \"input_stac_url\": \"https://stac.example.com/item/123\", \"local_refresh_token\": \"/home/jzvolensky/.local/share/openeo-python-client/refresh-tokens.json\", \"oscar_endpoint\": \"https://oscar-grnet.intertwin.fedcloud.eu\", \"oscar_script\": null, \"output\": \"output\", \"service\": \"hydroform-hydromt\", \"service_config\": \"./configs/oscar_hydromt_svc.yaml\"}}, \"runoscar2\": {\"process_id\": \"run_oscar\", \"arguments\": {\"context\": {\"model_resolution\": \"0.0045\", \"dataset\": \"hydromt2\", \"custom_param\": \"bar\"}, \"input_stac_url\": {\"from_node\": \"runoscar1\"}, \"local_refresh_token\": \"/home/jzvolensky/.local/share/openeo-python-client/refresh-tokens.json\", \"oscar_endpoint\": \"https://oscar-grnet.intertwin.fedcloud.eu\", \"oscar_script\": null, \"output\": \"output2\", \"service\": \"hydroform-hydromt-2\", \"service_config\": \"./configs/oscar_hydromt_svc2.yaml\"}, \"result\": true}}}}</script>\n",
       "    </openeo-model-builder>\n",
       "    "
      ],
      "text/plain": [
       "<openeo.rest.datacube.DataCube at 0x7f01f39644d0>"
      ]
     },
     "execution_count": 3,
     "metadata": {},
     "output_type": "execute_result"
    }
   ],
   "source": [
    "oscar1 = local_conn.datacube_from_process(\n",
    "    \"run_oscar\",\n",
    "    oscar_endpoint=\"https://oscar-grnet.intertwin.fedcloud.eu\",\n",
    "    service=\"hydroform-hydromt\",\n",
    "    output=\"output\",\n",
    "    input_stac_url=\"https://stac.example.com/item/123\",\n",
    "    local_refresh_token=\"/home/jzvolensky/.local/share/openeo-python-client/refresh-tokens.json\",\n",
    "    oscar_script=None,\n",
    "    service_config=\"./configs/oscar_hydromt_svc.yaml\",\n",
    "    context={\n",
    "        \"model_resolution\": \"0.008999999999\",\n",
    "        \"dataset\": \"hydromt\",\n",
    "        \"custom_param\": \"foo\"\n",
    "    }\n",
    ")\n",
    "\n",
    "oscar2 = local_conn.datacube_from_process(\n",
    "    \"run_oscar\",\n",
    "    oscar_endpoint=\"https://oscar-grnet.intertwin.fedcloud.eu\",\n",
    "    service=\"hydroform-hydromt-2\",\n",
    "    output=\"output2\",\n",
    "    input_stac_url=oscar1,  # <-- Pass the first node as input!\n",
    "    local_refresh_token=\"/home/jzvolensky/.local/share/openeo-python-client/refresh-tokens.json\",\n",
    "    oscar_script=None,\n",
    "    service_config=\"./configs/oscar_hydromt_svc2.yaml\",\n",
    "    context={\n",
    "        \"model_resolution\": \"0.0045\",\n",
    "        \"dataset\": \"hydromt2\",\n",
    "        \"custom_param\": \"bar\"\n",
    "    }\n",
    ")\n",
    "\n",
    "oscar2"
   ]
  },
  {
   "cell_type": "code",
   "execution_count": null,
   "id": "97545a01",
   "metadata": {},
   "outputs": [],
   "source": [
    "result = oscar.execute()\n",
    "result"
   ]
  },
  {
   "cell_type": "code",
   "execution_count": 4,
   "id": "b118f868",
   "metadata": {},
   "outputs": [
    {
     "ename": "NameError",
     "evalue": "name 'result' is not defined",
     "output_type": "error",
     "traceback": [
      "\u001b[0;31m---------------------------------------------------------------------------\u001b[0m",
      "\u001b[0;31mNameError\u001b[0m                                 Traceback (most recent call last)",
      "Cell \u001b[0;32mIn[4], line 1\u001b[0m\n\u001b[0;32m----> 1\u001b[0m service \u001b[38;5;241m=\u001b[39m \u001b[43mresult\u001b[49m\u001b[38;5;241m.\u001b[39mget_service(\u001b[38;5;124m\"\u001b[39m\u001b[38;5;124mhydroform-hydromt\u001b[39m\u001b[38;5;124m\"\u001b[39m)\n\u001b[1;32m      2\u001b[0m service_text \u001b[38;5;241m=\u001b[39m service\u001b[38;5;241m.\u001b[39mtext\n\u001b[1;32m      3\u001b[0m \u001b[38;5;28mprint\u001b[39m(service_text)\n",
      "\u001b[0;31mNameError\u001b[0m: name 'result' is not defined"
     ]
    }
   ],
   "source": [
    "service = result.get_service(\"hydroform-hydromt\")\n",
    "service_text = service.text\n",
    "print(service_text)"
   ]
  }
 ],
 "metadata": {
  "kernelspec": {
   "display_name": "openeo-processes-dask-py3.11",
   "language": "python",
   "name": "python3"
  },
  "language_info": {
   "codemirror_mode": {
    "name": "ipython",
    "version": 3
   },
   "file_extension": ".py",
   "mimetype": "text/x-python",
   "name": "python",
   "nbconvert_exporter": "python",
   "pygments_lexer": "ipython3",
   "version": "3.11.9"
  }
 },
 "nbformat": 4,
 "nbformat_minor": 5
}
