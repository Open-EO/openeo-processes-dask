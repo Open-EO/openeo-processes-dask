{
 "cells": [
  {
   "cell_type": "code",
   "execution_count": null,
   "id": "13041e06",
   "metadata": {},
   "outputs": [],
   "source": [
    "import openeo\n",
    "from openeo.local import LocalConnection\n",
    "local_conn = LocalConnection(\"./\")"
   ]
  },
  {
   "cell_type": "code",
   "execution_count": null,
   "id": "f2eb7b02",
   "metadata": {},
   "outputs": [],
   "source": [
    "#This is to get a local refresh token for the local development\n",
    "conn = openeo.connect(\"https://openeo.eodc.eu/openeo/1.2.0\").authenticate_oidc()"
   ]
  },
  {
   "cell_type": "markdown",
   "id": "07ab69d2",
   "metadata": {},
   "source": [
    "The following cell shows the setup of 2 dummy processes linked together\n",
    "\n",
    "since we are using the local processes dask we need to use the `datacube_from_process`\n",
    "\n",
    "The params are mostly self explanatory however here are some notes:\n",
    "\n",
    "The `input_stac_url` is still to be finalized as our usecase doesnt use it so its not fully tested if you want to use input data directly. Right now it gets converted into an environment variable `STAC_URL` which you can use in your process. so in theory right now you can use it in the `context` as well with the same result. In the future we may need it as a link to a preprocesses datacube from openeo.\n",
    "\n",
    "leave `output` as output this is an OSCAR thing and since we return STAC collections and not files it is not used or meaningful in this case.\n",
    "\n",
    "`oscar_scrip` is normally embedded in the `service_config` but if you want to overwrite it you can do that here.\n",
    "\n",
    "That brings us to the configs:\n",
    "\n",
    "`OSCAR/configs`\n",
    "\n",
    "1. `oscar_script`: a bash script to run inside the container in the case of our dummy:\n",
    "```bash\n",
    "python script.py\n",
    "```\n",
    "\n",
    "2. `service_config` example:\n",
    "```yaml\n",
    "functions:\n",
    "  oscar:\n",
    "  - cluster_id:\n",
    "      name: openeo-dummy\n",
    "      cpu: '1.0'\n",
    "      memory: 2Gi\n",
    "      image: potato55/dummy-container:latest #change to -test if broken\n",
    "      script: configs/dummy.sh # Path to the script from where the script is run\n",
    "      log_level: CRITICAL   # To avoid supervisor logs in response\n",
    "      vo: dev.intertwin.eu\n",
    "      environment:\n",
    "        variables:\n",
    "          DUMMY_INPUT1: \"dummy_value\"\n",
    "          DUMMY_INPUT2: \"another_value\"\n",
    "          INPUT_STAC: \"https://example.com/dummy-stac.json\"\n",
    "```\n",
    "\n",
    "where you need to name your process, set resources, provide the docker image, and the script mentioned before. The environment variables can be set beforehand but they are updated using the `context` parameter from `run_oscar`. "
   ]
  },
  {
   "cell_type": "code",
   "execution_count": null,
   "id": "d08a969d",
   "metadata": {},
   "outputs": [],
   "source": [
    "oscar1 = local_conn.datacube_from_process(\n",
    "    \"run_oscar\",\n",
    "    oscar_endpoint=\"https://oscar-grnet.intertwin.fedcloud.eu\",\n",
    "    service=\"hydroform-hydromt\",\n",
    "    output=\"output\",\n",
    "    input_stac_url=\"https://stac.example.com/item/123\",\n",
    "    local_refresh_token=\"/home/jzvolensky/.local/share/openeo-python-client/refresh-tokens.json\",\n",
    "    oscar_script=None,\n",
    "    service_config=\"./configs/oscar_hydromt_svc.yaml\",\n",
    "    context={\n",
    "        \"model_resolution\": \"0.008999999999\",\n",
    "        \"dataset\": \"hydromt\",\n",
    "        \"custom_param\": \"foo\"\n",
    "    }\n",
    ")\n",
    "\n",
    "oscar2 = local_conn.datacube_from_process(\n",
    "    \"run_oscar\",\n",
    "    oscar_endpoint=\"https://oscar-grnet.intertwin.fedcloud.eu\",\n",
    "    service=\"hydroform-hydromt-2\",\n",
    "    output=\"output2\",\n",
    "    input_stac_url=oscar1,  # <-- Pass the first node as input!\n",
    "    local_refresh_token=\"/home/jzvolensky/.local/share/openeo-python-client/refresh-tokens.json\",\n",
    "    oscar_script=None,\n",
    "    service_config=\"./configs/oscar_hydromt_svc2.yaml\",\n",
    "    context={\n",
    "        \"model_resolution\": \"0.0045\",\n",
    "        \"dataset\": \"hydromt2\",\n",
    "        \"custom_param\": \"bar\"\n",
    "    }\n",
    ")\n",
    "\n",
    "oscar2"
   ]
  },
  {
   "cell_type": "markdown",
   "id": "230c0be1",
   "metadata": {},
   "source": [
    "## Execution\n",
    "\n",
    "When you execute there are a couple of paths the client takes depending on the setup. In any case it will return `201` for job creation, then sleep for some time to give OSCAR a chance to setup and then we start pinging for logs which print the output stac url. \n",
    "\n",
    "Once we find this stac url we extract it (so make sure you keep the same format it should say `STAC OUTPUT URL` somewhere)\n",
    "\n",
    "```py\n",
    "    def parse_logs_stac(self, logs: str) -> str:\n",
    "        logger.info(\"Parsing logs for STAC URL\")\n",
    "        if not logs:\n",
    "            logger.error(\"Logs are empty, cannot parse STAC URL\")\n",
    "            exit(1)\n",
    "        for line in logs.splitlines():\n",
    "            if \"STAC OUTPUT URL\" in line:\n",
    "                parts = line.split(\"STAC OUTPUT URL:\")\n",
    "                if len(parts) > 1:\n",
    "                    stac_url = parts[1].strip()\n",
    "                    logger.info(f\"Found STAC OUTPUT URL: {stac_url}\")\n",
    "                    return stac_url\n",
    "                else:\n",
    "                    logger.warning(\"STAC OUTPUT URL line found but no URL present.\")\n",
    "```\n",
    "\n",
    "This is currently not great but it works for the usecase.\n",
    "\n",
    "Once the stac url is found we pass it to the second process which runs the exact same container and returns the output. Currently there is a lot of logging so you can see what is happening."
   ]
  },
  {
   "cell_type": "code",
   "execution_count": null,
   "id": "68b1c239",
   "metadata": {},
   "outputs": [],
   "source": [
    "result = oscar2.execute()\n",
    "result"
   ]
  }
 ],
 "metadata": {
  "language_info": {
   "name": "python"
  }
 },
 "nbformat": 4,
 "nbformat_minor": 5
}
